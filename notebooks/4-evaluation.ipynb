{
 "cells": [
  {
   "cell_type": "markdown",
   "id": "46581630",
   "metadata": {},
   "source": []
  },
  {
   "cell_type": "markdown",
   "id": "1a5b2fe7",
   "metadata": {},
   "source": [
    "# Evaluate with ROUGE"
   ]
  },
  {
   "cell_type": "code",
   "execution_count": 1,
   "id": "3df79600",
   "metadata": {},
   "outputs": [
    {
     "name": "stderr",
     "output_type": "stream",
     "text": [
      "/Users/test/Desktop/ironhack_labs/YouTube_ChatBot_Final/notebooks/utils.py:21: LangChainDeprecationWarning: The class `OpenAIEmbeddings` was deprecated in LangChain 0.0.9 and will be removed in 1.0. An updated version of the class exists in the :class:`~langchain-openai package and should be used instead. To use it run `pip install -U :class:`~langchain-openai` and import as `from :class:`~langchain_openai import OpenAIEmbeddings``.\n",
      "  embedding = OpenAIEmbeddings(openai_api_key=keys[\"OPENAI_API_KEY\"])\n"
     ]
    },
    {
     "name": "stdout",
     "output_type": "stream",
     "text": [
      "✅ RetrievalQA chain created\n"
     ]
    },
    {
     "name": "stderr",
     "output_type": "stream",
     "text": [
      "/Users/test/Desktop/ironhack_labs/YouTube_ChatBot_Final/notebooks/utils.py:27: LangChainDeprecationWarning: The class `ChatOpenAI` was deprecated in LangChain 0.0.10 and will be removed in 1.0. An updated version of the class exists in the :class:`~langchain-openai package and should be used instead. To use it run `pip install -U :class:`~langchain-openai` and import as `from :class:`~langchain_openai import ChatOpenAI``.\n",
      "  llm = ChatOpenAI(temperature=0, model=\"gpt-4\", openai_api_key=keys[\"OPENAI_API_KEY\"])\n"
     ]
    }
   ],
   "source": [
    "# Define RetrievalQA chain\n",
    "import utils  # Import the whole module so you can reload it\n",
    "import importlib\n",
    "\n",
    "importlib.reload(utils)\n",
    "\n",
    "from utils import init_qa_chain\n",
    "qa_chain = init_qa_chain()\n",
    "print(\"✅ RetrievalQA chain created\")"
   ]
  },
  {
   "cell_type": "code",
   "execution_count": 2,
   "id": "d222e5e7",
   "metadata": {},
   "outputs": [
    {
     "name": "stderr",
     "output_type": "stream",
     "text": [
      "[nltk_data] Downloading package punkt to /Users/test/nltk_data...\n",
      "[nltk_data]   Package punkt is already up-to-date!\n"
     ]
    }
   ],
   "source": [
    "import evaluate\n",
    "from nltk.tokenize import sent_tokenize\n",
    "import nltk\n",
    "\n",
    "# Ensure required tokenizer\n",
    "nltk.download('punkt')\n",
    "\n",
    "# Load ROUGE metric\n",
    "rouge = evaluate.load(\"rouge\")\n",
    "\n",
    "def compute_rouge(generated_text, reference_text):\n",
    "    \"\"\"\n",
    "    Compute ROUGE score between a reference answer and a generated answer.\n",
    "    \"\"\"\n",
    "    # Ensure text is split into sentences with newlines\n",
    "    generated = \"\\n\".join(sent_tokenize(generated_text.strip()))\n",
    "    reference = \"\\n\".join(sent_tokenize(reference_text.strip()))\n",
    "\n",
    "    result = rouge.compute(\n",
    "        predictions=[generated],\n",
    "        references=[reference],\n",
    "        use_stemmer=True,\n",
    "    )\n",
    "    return result\n"
   ]
  },
  {
   "cell_type": "code",
   "execution_count": 3,
   "id": "616c9424",
   "metadata": {},
   "outputs": [],
   "source": [
    "def answer_with_rouge(input_text: str, reference_answer: str = None):\n",
    "    print(f\"\\n📝 Query: {input_text}\")\n",
    "    result = qa_chain({\"query\": input_text})\n",
    "    answer = result[\"result\"]\n",
    "    sources = list(set(doc.metadata.get(\"source_file\", \"Unknown\") for doc in result[\"source_documents\"]))\n",
    "    print(f\"🗒️ Retrieved {len(sources)} source documents\")\n",
    "    \n",
    "    output = f\"{answer}\\n\\nSources:\\n\" + \"\\n\".join(sources)\n",
    "    \n",
    "    if reference_answer:\n",
    "        rouge_scores = compute_rouge(answer, reference_answer)\n",
    "        print(f\"🔴 ROUGE scores:\")\n",
    "        for k, v in rouge_scores.items():\n",
    "            print(f\"  {k.upper()}: {v:.4f}\")\n",
    "        output += \"\\n\\nROUGE scores:\\n\" + \"\\n\".join(f\"{k.upper()}: {v:.4f}\" for k, v in rouge_scores.items())\n",
    "        \n",
    "    return output\n"
   ]
  },
  {
   "cell_type": "markdown",
   "id": "e1c41a90",
   "metadata": {},
   "source": [
    "### Testing with references"
   ]
  },
  {
   "cell_type": "code",
   "execution_count": 4,
   "id": "9b7cdab3",
   "metadata": {},
   "outputs": [
    {
     "name": "stdout",
     "output_type": "stream",
     "text": [
      "\n",
      "📝 Query: What is at the center of a black hole?\n"
     ]
    },
    {
     "name": "stderr",
     "output_type": "stream",
     "text": [
      "/var/folders/hq/l56ghxv518j9wg6pgqkbbvd80000gn/T/ipykernel_33078/1307809310.py:3: LangChainDeprecationWarning: The method `Chain.__call__` was deprecated in langchain 0.1.0 and will be removed in 1.0. Use :meth:`~invoke` instead.\n",
      "  result = qa_chain({\"query\": input_text})\n"
     ]
    },
    {
     "name": "stdout",
     "output_type": "stream",
     "text": [
      "🗒️ Retrieved 5 source documents\n",
      "🔴 ROUGE scores:\n",
      "  ROUGE1: 0.3614\n",
      "  ROUGE2: 0.1481\n",
      "  ROUGEL: 0.2651\n",
      "  ROUGELSUM: 0.2651\n",
      "The center of a black hole is thought to contain a singularity, a point where gravity is so intense that spacetime curves infinitely and the laws of physics as we know them cease to operate. However, this is still a topic of ongoing research and there is much we don't know about black holes.\n",
      "\n",
      "Sources:\n",
      "52 - The Sounds of Space ｜ StarTalk Live! at Guild Hall.en.txt\n",
      "31 - Neil and a Particle Physicist Discuss Why There’s Something Instead of Nothing.en.txt\n",
      "06 - Tackling the Biggest Unsolved Problems in Math with 3Blue1Brown.en.txt\n",
      "12 - Unpacking Einstein’s Greatest Papers, with Janna Levin.en.txt\n",
      "41 - The Science of Interstellar with Science Advisor, Kip Thorne.en.txt\n",
      "\n",
      "ROUGE scores:\n",
      "ROUGE1: 0.3614\n",
      "ROUGE2: 0.1481\n",
      "ROUGEL: 0.2651\n",
      "ROUGELSUM: 0.2651\n"
     ]
    }
   ],
   "source": [
    "query = \"What is at the center of a black hole?\"\n",
    "\n",
    "reference = \"The singularity at the center of a black hole is the ultimate no man's land: a place where matter is compressed down to an infinitely tiny point\"\n",
    "response = answer_with_rouge(query, reference)\n",
    "print(response)"
   ]
  },
  {
   "cell_type": "code",
   "execution_count": 8,
   "id": "6cda6fb9",
   "metadata": {},
   "outputs": [
    {
     "name": "stdout",
     "output_type": "stream",
     "text": [
      "\n",
      "📝 Query: What is Bill Nye Famous for?\n",
      "🗒️ Retrieved 1 source documents\n",
      "🔴 ROUGE scores:\n",
      "  ROUGE1: 0.4074\n",
      "  ROUGE2: 0.1923\n",
      "  ROUGEL: 0.3333\n",
      "  ROUGELSUM: 0.3333\n",
      "Bill Nye is famous for his educational television program, \"Bill Nye the Science Guy,\" where he made science accessible and entertaining for children and adults alike.\n",
      "\n",
      "Sources:\n",
      "40 - Neil deGrasse Tyson and Bill Nye Catch Up.en.txt\n",
      "\n",
      "ROUGE scores:\n",
      "ROUGE1: 0.4074\n",
      "ROUGE2: 0.1923\n",
      "ROUGEL: 0.3333\n",
      "ROUGELSUM: 0.3333\n"
     ]
    }
   ],
   "source": [
    "query = \"What is Bill Nye Famous for?\"\n",
    "\n",
    "reference = \"He is best known as the host of the science education television show Bill Nye the Science Guy (1993–1999) and as a science educator in pop culture\"\n",
    "response = answer_with_rouge(query, reference)\n",
    "print(response)"
   ]
  },
  {
   "cell_type": "code",
   "execution_count": 9,
   "id": "f8babb5a",
   "metadata": {},
   "outputs": [
    {
     "name": "stdout",
     "output_type": "stream",
     "text": [
      "\n",
      "📝 Query: Who is Sara Imari Walker?\n",
      "🗒️ Retrieved 2 source documents\n",
      "🔴 ROUGE scores:\n",
      "  ROUGE1: 0.3333\n",
      "  ROUGE2: 0.2353\n",
      "  ROUGEL: 0.3333\n",
      "  ROUGELSUM: 0.3333\n",
      "Sara Imari Walker is an astrobiologist.\n",
      "\n",
      "Sources:\n",
      "50 - Neil & Sara Imari Walker Discuss New Theories on The Origins of Life in the Universe.en.txt\n",
      "06 - Tackling the Biggest Unsolved Problems in Math with 3Blue1Brown.en.txt\n",
      "\n",
      "ROUGE scores:\n",
      "ROUGE1: 0.3333\n",
      "ROUGE2: 0.2353\n",
      "ROUGEL: 0.3333\n",
      "ROUGELSUM: 0.3333\n"
     ]
    }
   ],
   "source": [
    "query = \"Who is Sara Imari Walker?\"\n",
    "\n",
    "reference = \"Sara Imari Walker is an American theoretical physicist and astrobiologist with research interests in the origins of life, astrobiology, physics of life, emergence, complex and dynamical systems, and artificial life\"\n",
    "response = answer_with_rouge(query, reference)\n",
    "print(response)"
   ]
  },
  {
   "cell_type": "code",
   "execution_count": 10,
   "id": "e81f42e7",
   "metadata": {},
   "outputs": [
    {
     "name": "stdout",
     "output_type": "stream",
     "text": [
      "\n",
      "📝 Query: What is Sara Imari Walker known for?\n",
      "🗒️ Retrieved 3 source documents\n",
      "🔴 ROUGE scores:\n",
      "  ROUGE1: 0.3636\n",
      "  ROUGE2: 0.1290\n",
      "  ROUGEL: 0.2424\n",
      "  ROUGELSUM: 0.2424\n",
      "The text doesn't provide information on what Sarah Imari Walker is known for.\n",
      "\n",
      "Sources:\n",
      "33 - The Elements of Marie Curie with Dava Sobel.en.txt\n",
      "50 - Neil & Sara Imari Walker Discuss New Theories on The Origins of Life in the Universe.en.txt\n",
      "06 - Tackling the Biggest Unsolved Problems in Math with 3Blue1Brown.en.txt\n",
      "\n",
      "ROUGE scores:\n",
      "ROUGE1: 0.3636\n",
      "ROUGE2: 0.1290\n",
      "ROUGEL: 0.2424\n",
      "ROUGELSUM: 0.2424\n"
     ]
    }
   ],
   "source": [
    "query = \"What is Sara Imari Walker known for?\"\n",
    "\n",
    "reference = \"Sara Imari Walker is recognized for developing assembly theory, an informational framework for identifying life based on its complexity. \"\n",
    "response = answer_with_rouge(query, reference)\n",
    "print(response)"
   ]
  }
 ],
 "metadata": {
  "kernelspec": {
   "display_name": "cleanenv",
   "language": "python",
   "name": "python3"
  },
  "language_info": {
   "codemirror_mode": {
    "name": "ipython",
    "version": 3
   },
   "file_extension": ".py",
   "mimetype": "text/x-python",
   "name": "python",
   "nbconvert_exporter": "python",
   "pygments_lexer": "ipython3",
   "version": "3.10.18"
  }
 },
 "nbformat": 4,
 "nbformat_minor": 5
}

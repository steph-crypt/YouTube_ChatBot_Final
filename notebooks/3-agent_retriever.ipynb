{
 "cells": [
  {
   "cell_type": "markdown",
   "id": "e8fe8121",
   "metadata": {},
   "source": [
    "### Setup and load environments"
   ]
  },
  {
   "cell_type": "code",
   "execution_count": 15,
   "id": "89c39112",
   "metadata": {},
   "outputs": [],
   "source": [
    "# 1. Setup\n",
    "import pandas as pd\n",
    "from langchain.embeddings import OpenAIEmbeddings\n",
    "from langchain_pinecone import PineconeVectorStore  # ✅ NEW correct import\n",
    "from langchain.text_splitter import CharacterTextSplitter\n",
    "from langchain.schema import Document\n",
    "from pinecone import Pinecone, ServerlessSpec\n",
    "from dotenv import load_dotenv\n",
    "import os\n",
    "from getpass import getpass\n",
    "\n",
    "# Load environment variables\n",
    "_ = load_dotenv()\n",
    "PINECONE_API_KEY = os.getenv(\"PINECONE_API_KEY\") or getpass(\"Enter your Pinecone API key: \")\n",
    "OPENAI_API_KEY = os.getenv(\"OPENAI_API_KEY\") or getpass(\"Enter your OpenAI API key: \")\n"
   ]
  },
  {
   "cell_type": "markdown",
   "id": "1d605676",
   "metadata": {},
   "source": [
    "### Get data from pinecone after storing successfully"
   ]
  },
  {
   "cell_type": "code",
   "execution_count": null,
   "id": "3064839f",
   "metadata": {},
   "outputs": [],
   "source": [
    "def reconnect_vectorstore(index_name=\"youtube-transcripts\"):\n",
    "    from langchain.embeddings import OpenAIEmbeddings\n",
    "    from langchain_pinecone import PineconeVectorStore\n",
    "    from pinecone import Pinecone\n",
    "    from dotenv import load_dotenv\n",
    "    import os\n",
    "\n",
    "    load_dotenv()\n",
    "    PINECONE_API_KEY = os.getenv(\"PINECONE_API_KEY\")\n",
    "    OPENAI_API_KEY = os.getenv(\"OPENAI_API_KEY\")\n",
    "\n",
    "    embedding = OpenAIEmbeddings(openai_api_key=OPENAI_API_KEY)\n",
    "    pc = Pinecone(api_key=PINECONE_API_KEY)\n",
    "    index = pc.Index(index_name)\n",
    "\n",
    "    # 🔍 Print vector count directly\n",
    "    stats = index.describe_index_stats()\n",
    "    print(f\"📦 Index contains {stats['total_vector_count']} vectors\")\n",
    "\n",
    "    vectordb = PineconeVectorStore(index, embedding)\n",
    "    retriever = vectordb.as_retriever(search_kwargs={\"k\": 5})\n",
    "\n",
    "    docs = retriever.get_relevant_documents(\"What is this video about?\")\n",
    "    print(f\"Retrieved {len(docs)} docs\")\n",
    "    for d in docs:\n",
    "        print(\"-----\")\n",
    "        print(d.page_content)\n",
    "\n",
    "    print(\"✅ Reconnected to Pinecone vectorstore and retriever is ready\")\n",
    "    return vectordb, retriever\n",
    "\n"
   ]
  },
  {
   "cell_type": "markdown",
   "id": "95764b28",
   "metadata": {},
   "source": [
    "### Set up retriever"
   ]
  },
  {
   "cell_type": "code",
   "execution_count": 25,
   "id": "cf82c0a5",
   "metadata": {},
   "outputs": [
    {
     "name": "stdout",
     "output_type": "stream",
     "text": [
      "📦 Index contains 78354 vectors\n",
      "Retrieved 5 docs\n",
      "-----\n",
      "of time. I want to watch videos about\n",
      "-----\n",
      "for those who can see this on video uh\n",
      "-----\n",
      "a short video in a series that we do\n",
      "-----\n",
      "know made this video that was giving a\n",
      "-----\n",
      "term but there is a very popular video\n",
      "✅ Reconnected to Pinecone vectorstore and retriever is ready\n",
      "✅ Retriever initialized\n",
      "✅ Initialized LLM\n",
      "✅ RetrievalQA chain created\n"
     ]
    }
   ],
   "source": [
    "# 4. Set up retriever\n",
    "vectordb, retriever = reconnect_vectorstore()\n",
    "print(\"✅ Retriever initialized\")\n",
    "\n",
    "# 5. Memory & Tools\n",
    "from langchain.memory import ConversationBufferMemory\n",
    "from langchain.agents import initialize_agent, AgentType, Tool\n",
    "from langchain.chat_models import ChatOpenAI\n",
    "from langchain.chains import RetrievalQA\n",
    "\n",
    "llm = ChatOpenAI(temperature=0, model=\"gpt-4\", openai_api_key=OPENAI_API_KEY)\n",
    "print(\"✅ Initialized LLM\")\n",
    "\n",
    "# Define RetrievalQA chain\n",
    "from utils import init_qa_chain\n",
    "qa_chain = init_qa_chain()\n",
    "\n",
    "print(\"✅ RetrievalQA chain created\")\n"
   ]
  },
  {
   "cell_type": "markdown",
   "id": "5e3c8072",
   "metadata": {},
   "source": [
    "### Define function for answering questions with sources"
   ]
  },
  {
   "cell_type": "code",
   "execution_count": 26,
   "id": "2a388221",
   "metadata": {},
   "outputs": [],
   "source": [
    "\n",
    "def answer_with_sources(input_text: str):\n",
    "    print(f\"\\n📝 Query: {input_text}\")\n",
    "    result = qa_chain({\"query\": input_text})\n",
    "    answer = result[\"result\"]\n",
    "    sources = list(set(doc.metadata.get(\"source_file\", \"Unknown\") for doc in result[\"source_documents\"]))\n",
    "    print(f\"🗒️ Retrieved {len(sources)} source documents\")\n",
    "    return f\"{answer}\\n\\nSources:\\n\" + \"\\n\".join(sources)"
   ]
  },
  {
   "cell_type": "markdown",
   "id": "badefed7",
   "metadata": {},
   "source": [
    "### Setup tools and agent with Langsmith tracing"
   ]
  },
  {
   "cell_type": "code",
   "execution_count": 27,
   "id": "385d127d",
   "metadata": {},
   "outputs": [
    {
     "name": "stdout",
     "output_type": "stream",
     "text": [
      "✅ Tools defined\n",
      "✅ Conversation memory initialized\n",
      "✅ Agent initialized and ready\n",
      "\n",
      "\n",
      "\u001b[1m> Entering new AgentExecutor chain...\u001b[0m\n",
      "\u001b[32;1m\u001b[1;3mThought: Do I need to use a tool? No\n",
      "AI: Albert Einstein was a renowned physicist who is best known for his theory of relativity, which revolutionized the field of theoretical physics. He was born in Germany in 1879 and showed an early aptitude for mathematics and physics. His work on the photoelectric effect won him the Nobel Prize in Physics in 1921. Einstein's most famous equation, E=mc^2, demonstrates the equivalence of energy (E) and mass (m), with \"c\" being the speed of light in a vacuum. This equation has been fundamental to the development of nuclear energy. Einstein emigrated to the United States in the 1930s due to the rise of the Nazi regime in Germany. He accepted a position at the Institute for Advanced Study in Princeton, New Jersey, where he remained until his retirement. He passed away in 1955.\u001b[0m\n",
      "\n",
      "\u001b[1m> Finished chain.\u001b[0m\n"
     ]
    }
   ],
   "source": [
    "from langsmith import traceable\n",
    "import os\n",
    "# !pip install -U langsmith openai\n",
    "\n",
    "# Set LangSmith env vars\n",
    "os.environ[\"LANGCHAIN_TRACING_V2\"] = \"true\"\n",
    "os.environ[\"LANGCHAIN_API_KEY\"] = \"LANGCHAIN_API_KEY\"\n",
    "os.environ[\"LANGCHAIN_PROJECT\"] = \"youtube-rag\"\n",
    "\n",
    "from langchain.agents import initialize_agent\n",
    "\n",
    "# Define tool\n",
    "tools = [\n",
    "    Tool(\n",
    "        name=\"YouTubeTranscriptQA\",\n",
    "        func=answer_with_sources,\n",
    "        description=\"Useful for answering questions about YouTube video transcripts. Input should be a fully formed question.\"\n",
    "    )\n",
    "]\n",
    "print(\"✅ Tools defined\")\n",
    "\n",
    "# Conversation memory\n",
    "memory = ConversationBufferMemory(memory_key=\"chat_history\")\n",
    "print(\"✅ Conversation memory initialized\")\n",
    "\n",
    "# 6. Initialize Agent with tools and memory\n",
    "agent = initialize_agent(\n",
    "    agent=AgentType.CONVERSATIONAL_REACT_DESCRIPTION,\n",
    "    tools=tools,\n",
    "    llm=llm,\n",
    "    verbose=True,\n",
    "    memory=memory,\n",
    "    max_iterations=3\n",
    ")\n",
    "\n",
    "print(\"✅ Agent initialized and ready\")\n",
    "\n",
    "@traceable(name=\"YouTube RAG Trace\")\n",
    "def run_agent():\n",
    "    agent.run(\"Who was Albert Einstein?\")\n",
    "\n",
    "result = run_agent()"
   ]
  },
  {
   "cell_type": "markdown",
   "id": "d1790c05",
   "metadata": {},
   "source": [
    "### Prompt agent"
   ]
  },
  {
   "cell_type": "code",
   "execution_count": 28,
   "id": "4db2d6f1",
   "metadata": {},
   "outputs": [],
   "source": [
    "prompt_templates = {\n",
    "    \"summary\": \"Please provide a concise summary of the following topic: '{}'\",\n",
    "    \"source\": \"Please provide the video source for the following topic: '{}'\",\n",
    "    \"explanation\": \"Explain in detail: '{}'\",\n",
    "    \"compare\": \"Compare and contrast these two concepts: '{}' and '{}'\",\n",
    "    \"timeline\": \"Give me a timeline of events related to: '{}'\",\n",
    "    \"faq\": \"What are the most frequently asked questions about '{}', and their answers?\",\n",
    "    \"key_points\": \"List the key points covered in: '{}'\",\n",
    "    \"step_by_step\": \"Provide a step-by-step guide on how to: '{}'\",\n",
    "    \"examples\": \"Give me examples related to '{}'\",\n",
    "    \"pros_cons\": \"What are the pros and cons of '{}'\",\n",
    "    \"common_mistakes\": \"What are the common mistakes people make regarding '{}', and how to avoid them?\",\n",
    "    \n",
    "}\n",
    "\n",
    "def ask_agent(agent, prompt_type, *args):\n",
    "    if prompt_type not in prompt_templates:\n",
    "        raise ValueError(f\"Prompt type '{prompt_type}' not supported.\")\n",
    "    prompt = prompt_templates[prompt_type].format(*args)\n",
    "    print(f\"Prompt to model:\\n{prompt}\\n\")\n",
    "    response = agent.run(prompt)\n",
    "    return response\n",
    "\n"
   ]
  },
  {
   "cell_type": "markdown",
   "id": "3366cb18",
   "metadata": {},
   "source": [
    "### User query testing"
   ]
  },
  {
   "cell_type": "code",
   "execution_count": 29,
   "id": "31d38d97",
   "metadata": {},
   "outputs": [
    {
     "name": "stdout",
     "output_type": "stream",
     "text": [
      "Prompt to model:\n",
      "Compare and contrast these two concepts: 'string theory' and 'pinpoint theory'\n",
      "\n",
      "\n",
      "\n",
      "\u001b[1m> Entering new AgentExecutor chain...\u001b[0m\n",
      "\u001b[32;1m\u001b[1;3mThought: Do I need to use a tool? No\n",
      "AI: It seems there might be a bit of confusion in your question. While 'string theory' is a well-known concept in theoretical physics, 'pinpoint theory' is not a recognized term in the field. \n",
      "\n",
      "String theory is a theoretical framework in which the point-like particles of particle physics are replaced by one-dimensional objects called strings. It describes how these strings propagate through space and interact with each other. The theory has the potential to provide a unified description of gravity and particle physics, as it incorporates quantum mechanics and general relativity.\n",
      "\n",
      "On the other hand, 'pinpoint theory' doesn't appear to be a standard term in physics. If you're referring to a specific concept, could you please provide more context or details?\u001b[0m\n",
      "\n",
      "\u001b[1m> Finished chain.\u001b[0m\n",
      "It seems there might be a bit of confusion in your question. While 'string theory' is a well-known concept in theoretical physics, 'pinpoint theory' is not a recognized term in the field. \n",
      "\n",
      "String theory is a theoretical framework in which the point-like particles of particle physics are replaced by one-dimensional objects called strings. It describes how these strings propagate through space and interact with each other. The theory has the potential to provide a unified description of gravity and particle physics, as it incorporates quantum mechanics and general relativity.\n",
      "\n",
      "On the other hand, 'pinpoint theory' doesn't appear to be a standard term in physics. If you're referring to a specific concept, could you please provide more context or details?\n"
     ]
    }
   ],
   "source": [
    "result = ask_agent(agent, \"compare\", \"string theory\", \"pinpoint theory\")\n",
    "print(result)"
   ]
  },
  {
   "cell_type": "code",
   "execution_count": 30,
   "id": "78967701",
   "metadata": {},
   "outputs": [
    {
     "name": "stdout",
     "output_type": "stream",
     "text": [
      "Prompt to model:\n",
      "Explain in detail: 'Black holes'\n",
      "\n",
      "\n",
      "\n",
      "\u001b[1m> Entering new AgentExecutor chain...\u001b[0m\n",
      "\u001b[32;1m\u001b[1;3mThought: Do I need to use a tool? No\n",
      "AI: A black hole is a region of spacetime where gravity is so strong that nothing, not even particles or electromagnetic radiation such as light, can escape from it. The theory of general relativity predicts that a sufficiently compact mass can deform spacetime to form a black hole.\n",
      "\n",
      "Black holes are characterized by the \"event horizon,\" a boundary in spacetime through which matter and light can only pass inward towards the mass of the black hole. Nothing, not even light, can escape from inside the event horizon. The size of the event horizon is proportional to the mass of the black hole.\n",
      "\n",
      "There are three types of black holes: stellar black holes, supermassive black holes, and intermediate black holes. Stellar black holes are formed when a massive star collapses under its own gravity. Supermassive black holes, which are millions to billions of times the mass of the Sun, exist in the centers of most galaxies, including our own Milky Way. Intermediate black holes are of a size between these two extremes.\n",
      "\n",
      "Despite their name, black holes can be detected indirectly through their interaction with other matter and with electromagnetic radiation. For example, a black hole can be observed by noting its gravitational effects on nearby stars and gas. Additionally, when matter falls into a black hole, it forms an \"accretion disk\" that heats up and emits X-rays that can be detected.\n",
      "\n",
      "The study of black holes involves the use of complex mathematical models to understand their properties and behavior. Despite our growing understanding, they remain one of the most mysterious and fascinating objects in the universe.\u001b[0m\n",
      "\n",
      "\u001b[1m> Finished chain.\u001b[0m\n",
      "A black hole is a region of spacetime where gravity is so strong that nothing, not even particles or electromagnetic radiation such as light, can escape from it. The theory of general relativity predicts that a sufficiently compact mass can deform spacetime to form a black hole.\n",
      "\n",
      "Black holes are characterized by the \"event horizon,\" a boundary in spacetime through which matter and light can only pass inward towards the mass of the black hole. Nothing, not even light, can escape from inside the event horizon. The size of the event horizon is proportional to the mass of the black hole.\n",
      "\n",
      "There are three types of black holes: stellar black holes, supermassive black holes, and intermediate black holes. Stellar black holes are formed when a massive star collapses under its own gravity. Supermassive black holes, which are millions to billions of times the mass of the Sun, exist in the centers of most galaxies, including our own Milky Way. Intermediate black holes are of a size between these two extremes.\n",
      "\n",
      "Despite their name, black holes can be detected indirectly through their interaction with other matter and with electromagnetic radiation. For example, a black hole can be observed by noting its gravitational effects on nearby stars and gas. Additionally, when matter falls into a black hole, it forms an \"accretion disk\" that heats up and emits X-rays that can be detected.\n",
      "\n",
      "The study of black holes involves the use of complex mathematical models to understand their properties and behavior. Despite our growing understanding, they remain one of the most mysterious and fascinating objects in the universe.\n"
     ]
    }
   ],
   "source": [
    "result = ask_agent(agent, \"explanation\", \"Black holes\")\n",
    "print(result)"
   ]
  },
  {
   "cell_type": "code",
   "execution_count": 31,
   "id": "f5c78239",
   "metadata": {},
   "outputs": [
    {
     "name": "stdout",
     "output_type": "stream",
     "text": [
      "Prompt to model:\n",
      "Please provide the video source for the following topic: 'Black holes'\n",
      "\n",
      "\n",
      "\n",
      "\u001b[1m> Entering new AgentExecutor chain...\u001b[0m\n",
      "\u001b[32;1m\u001b[1;3mThought: Do I need to use a tool? Yes\n",
      "Action: YouTubeTranscriptQA\n",
      "Action Input: 'Black holes'\u001b[0m\n",
      "📝 Query: 'Black holes'\n"
     ]
    },
    {
     "name": "stderr",
     "output_type": "stream",
     "text": [
      "/var/folders/hq/l56ghxv518j9wg6pgqkbbvd80000gn/T/ipykernel_30037/1720896804.py:3: LangChainDeprecationWarning: The method `Chain.__call__` was deprecated in langchain 0.1.0 and will be removed in 1.0. Use :meth:`~invoke` instead.\n",
      "  result = qa_chain({\"query\": input_text})\n"
     ]
    },
    {
     "name": "stdout",
     "output_type": "stream",
     "text": [
      "🗒️ Retrieved 4 source documents\n",
      "\n",
      "Observation: \u001b[36;1m\u001b[1;3mI'm sorry, but your question is not clear. Could you please provide more information or context?\n",
      "\n",
      "Sources:\n",
      "41 - The Science of Interstellar with Science Advisor, Kip Thorne.en.txt\n",
      "52 - The Sounds of Space ｜ StarTalk Live! at Guild Hall.en.txt\n",
      "09 - Answering Questions About Time Travel, Aliens & Negative Gravity.en.txt\n",
      "17 - When Black Holes Collide, with Nergis Mavalvala.en.txt\u001b[0m\n",
      "Thought:\u001b[32;1m\u001b[1;3mDo I need to use a tool? No\n",
      "AI: Here are some video sources related to the topic 'Black holes':\n",
      "\n",
      "1. \"The Science of Interstellar with Science Advisor, Kip Thorne\"\n",
      "2. \"The Sounds of Space ｜ StarTalk Live! at Guild Hall\"\n",
      "3. \"Answering Questions About Time Travel, Aliens & Negative Gravity\"\n",
      "4. \"When Black Holes Collide, with Nergis Mavalvala\"\n",
      "\n",
      "You can search for these titles on YouTube to find more information about black holes.\u001b[0m\n",
      "\n",
      "\u001b[1m> Finished chain.\u001b[0m\n",
      "Here are some video sources related to the topic 'Black holes':\n",
      "\n",
      "1. \"The Science of Interstellar with Science Advisor, Kip Thorne\"\n",
      "2. \"The Sounds of Space ｜ StarTalk Live! at Guild Hall\"\n",
      "3. \"Answering Questions About Time Travel, Aliens & Negative Gravity\"\n",
      "4. \"When Black Holes Collide, with Nergis Mavalvala\"\n",
      "\n",
      "You can search for these titles on YouTube to find more information about black holes.\n"
     ]
    }
   ],
   "source": [
    "result = ask_agent(agent, \"source\", \"Black holes\")\n",
    "print(result)"
   ]
  },
  {
   "cell_type": "code",
   "execution_count": 32,
   "id": "12538d83",
   "metadata": {},
   "outputs": [
    {
     "name": "stdout",
     "output_type": "stream",
     "text": [
      "Prompt to model:\n",
      "Please provide the video source for the following topic: 'string theory'\n",
      "\n",
      "\n",
      "\n",
      "\u001b[1m> Entering new AgentExecutor chain...\u001b[0m\n",
      "\u001b[32;1m\u001b[1;3mThought: Do I need to use a tool? Yes\n",
      "Action: YouTubeTranscriptQA\n",
      "Action Input: Please provide the video source for the following topic: 'string theory'\u001b[0m\n",
      "📝 Query: Please provide the video source for the following topic: 'string theory'\n",
      "🗒️ Retrieved 2 source documents\n",
      "\n",
      "Observation: \u001b[36;1m\u001b[1;3mI'm sorry, but I can't provide the video source as I don't have the ability to access or search for videos.\n",
      "\n",
      "Sources:\n",
      "49 - Answering Fan Questions About Photons, Fire & Gravity Waves.en.txt\n",
      "01 - Is The Universe Made of Tiny Vibrating Strings？ With Lara Anderson.en.txt\u001b[0m\n",
      "Thought:\u001b[32;1m\u001b[1;3mDo I need to use a tool? No\n",
      "AI: Here are some video sources related to the topic 'string theory':\n",
      "\n",
      "1. \"Is The Universe Made of Tiny Vibrating Strings? With Lara Anderson\"\n",
      "2. \"Answering Fan Questions About Photons, Fire & Gravity Waves\"\n",
      "\n",
      "You can search for these titles on YouTube to find more information about string theory.\u001b[0m\n",
      "\n",
      "\u001b[1m> Finished chain.\u001b[0m\n",
      "Here are some video sources related to the topic 'string theory':\n",
      "\n",
      "1. \"Is The Universe Made of Tiny Vibrating Strings? With Lara Anderson\"\n",
      "2. \"Answering Fan Questions About Photons, Fire & Gravity Waves\"\n",
      "\n",
      "You can search for these titles on YouTube to find more information about string theory.\n"
     ]
    }
   ],
   "source": [
    "result = ask_agent(agent, \"source\", \"string theory\")\n",
    "print(result)"
   ]
  }
 ],
 "metadata": {
  "kernelspec": {
   "display_name": "cleanenv",
   "language": "python",
   "name": "python3"
  },
  "language_info": {
   "codemirror_mode": {
    "name": "ipython",
    "version": 3
   },
   "file_extension": ".py",
   "mimetype": "text/x-python",
   "name": "python",
   "nbconvert_exporter": "python",
   "pygments_lexer": "ipython3",
   "version": "3.10.18"
  }
 },
 "nbformat": 4,
 "nbformat_minor": 5
}

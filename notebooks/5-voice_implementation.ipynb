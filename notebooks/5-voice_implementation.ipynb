{
 "cells": [
  {
   "cell_type": "markdown",
   "id": "385d8182",
   "metadata": {},
   "source": [
    "# Voice input and output feature"
   ]
  },
  {
   "cell_type": "code",
   "execution_count": 11,
   "id": "beb68e36",
   "metadata": {},
   "outputs": [],
   "source": [
    "import importlib\n",
    "import utils\n",
    "importlib.reload(utils)\n",
    "from utils import get_agent"
   ]
  },
  {
   "cell_type": "code",
   "execution_count": 12,
   "id": "cdbb9571",
   "metadata": {},
   "outputs": [],
   "source": [
    "from utils import init_qa_chain, get_agent\n",
    "\n",
    "qa_chain = init_qa_chain()\n",
    "agent = get_agent(qa_chain)\n"
   ]
  },
  {
   "cell_type": "code",
   "execution_count": null,
   "id": "adc4eb59",
   "metadata": {},
   "outputs": [],
   "source": [
    "#voice input\n",
    "# !pip install openai-whisper pyaudio pyttsx3\n",
    "# !pip install sounddevice wavio"
   ]
  },
  {
   "cell_type": "markdown",
   "id": "dd0e1e9c",
   "metadata": {},
   "source": [
    "### Creates user audio recording functionality"
   ]
  },
  {
   "cell_type": "code",
   "execution_count": 15,
   "id": "b86b11aa",
   "metadata": {},
   "outputs": [],
   "source": [
    "import whisper\n",
    "import sounddevice as sd\n",
    "import numpy as np\n",
    "import wavio\n",
    "from gtts import gTTS\n",
    "from playsound import playsound\n",
    "import os\n",
    "import uuid\n",
    "import openai\n",
    "\n",
    "\n",
    "import openai\n",
    "import os\n",
    "\n",
    "openai.api_key = os.getenv(\"OPENAI_API_KEY\")\n",
    "\n",
    "\n",
    "# Load Whisper model\n",
    "model = whisper.load_model(\"base\")\n",
    "\n",
    "def record_audio(duration=5, fs=16000):\n",
    "    print(\"🎙️ Recording...\")\n",
    "    recording = sd.rec(int(duration * fs), samplerate=fs, channels=1)\n",
    "    sd.wait()\n",
    "    wavio.write(\"/Users/test/Desktop/ironhack_labs/YouTube_ChatBot_Final/audio/user_input.wav\", recording, fs, sampwidth=2)\n",
    "    print(\"🎙️ Recording finished\")\n",
    "\n",
    "def transcribe_audio(filepath=\"/Users/test/Desktop/ironhack_labs/YouTube_ChatBot_Final/audio/user_input.wav\"):\n",
    "    print(\"📝 Transcribing...\")\n",
    "    result = model.transcribe(filepath)\n",
    "    text = result[\"text\"].strip()\n",
    "    print(f\"🗣️ You said: {text}\")\n",
    "    return text\n",
    "\n",
    "def speak_text(text):\n",
    "    filename = f\"{uuid.uuid4().hex}.mp3\"\n",
    "    tts = gTTS(text=text, lang='en')\n",
    "    tts.save(filename)\n",
    "    playsound(filename)\n",
    "    os.remove(filename)\n",
    "\n",
    "def shorten_text(text, max_ratio=0.5):\n",
    "    # Prompt the agent or LLM to summarize or shorten the text\n",
    "    prompt = f\"Please shorten the following text to about {int(max_ratio*100)}% of its length, keeping the key information:\\n\\n{text}\"\n",
    "    shortened = agent.run(prompt)\n",
    "    return shortened\n",
    "\n",
    "def answer_with_sources(question):\n",
    "    # full_answer = agent.run(question)\n",
    "    prompt = f\"Use the YouTubeTranscriptQA tool to answer this question: {question}\"\n",
    "    full_answer = agent.run(prompt)\n",
    "    short_answer = shorten_text(full_answer)\n",
    "    return short_answer\n",
    "\n",
    "# One interaction\n",
    "def voice_rag_interaction():\n",
    "    record_audio()\n",
    "    question = transcribe_audio()\n",
    "    answer = answer_with_sources(question)\n",
    "    print(f\"🤖 Answer:\\n{answer}\")\n",
    "    speak_text(answer)\n"
   ]
  },
  {
   "cell_type": "code",
   "execution_count": 16,
   "id": "a0d650de",
   "metadata": {},
   "outputs": [
    {
     "name": "stdout",
     "output_type": "stream",
     "text": [
      "🎙️ Recording...\n",
      "🎙️ Recording finished\n",
      "📝 Transcribing...\n"
     ]
    },
    {
     "name": "stderr",
     "output_type": "stream",
     "text": [
      "/opt/anaconda3/envs/cleanenv/lib/python3.10/site-packages/whisper/transcribe.py:132: UserWarning: FP16 is not supported on CPU; using FP32 instead\n",
      "  warnings.warn(\"FP16 is not supported on CPU; using FP32 instead\")\n"
     ]
    },
    {
     "name": "stdout",
     "output_type": "stream",
     "text": [
      "🗣️ You said: What is the source for Bill 9?\n",
      "\n",
      "\n",
      "\u001b[1m> Entering new AgentExecutor chain...\u001b[0m\n",
      "\u001b[32;1m\u001b[1;3mThought: Do I need to use a tool? Yes\n",
      "Action: YouTubeTranscriptQA\n",
      "Action Input: What is the source for Bill 9?\u001b[0m"
     ]
    },
    {
     "name": "stderr",
     "output_type": "stream",
     "text": [
      "/Users/test/Desktop/ironhack_labs/YouTube_ChatBot_Final/notebooks/utils.py:65: LangChainDeprecationWarning: The method `Chain.__call__` was deprecated in langchain 0.1.0 and will be removed in 1.0. Use :meth:`~invoke` instead.\n"
     ]
    },
    {
     "name": "stdout",
     "output_type": "stream",
     "text": [
      "\n",
      "Observation: \u001b[36;1m\u001b[1;3mI'm sorry, but I don't have the information about the source for Bill 9.\n",
      "\n",
      "Sources:\n",
      "36 - Talking Aliens with NASA UAP Chair, David Spergel.en.txt\n",
      "54 - Scientists Discuss Music and the Origins of Language.en.txt\n",
      "59 - Spending 378 Days in a Mars Simulation with NASA Commander Kelly Haston.en.txt\n",
      "13 - Kate the Chemist Crushes Your Chemistry Homework.en.txt\n",
      "40 - Neil deGrasse Tyson and Bill Nye Catch Up.en.txt\u001b[0m\n",
      "Thought:\u001b[32;1m\u001b[1;3mDo I need to use a tool? No\n",
      "AI: I'm sorry, but I don't have the information about the source for Bill 9.\u001b[0m\n",
      "\n",
      "\u001b[1m> Finished chain.\u001b[0m\n",
      "\n",
      "\n",
      "\u001b[1m> Entering new AgentExecutor chain...\u001b[0m\n",
      "\u001b[32;1m\u001b[1;3mThought: Do I need to use a tool? No\n",
      "AI: Apologies, but I lack information on the source for Bill 9.\u001b[0m\n",
      "\n",
      "\u001b[1m> Finished chain.\u001b[0m\n",
      "🤖 Answer:\n",
      "Apologies, but I lack information on the source for Bill 9.\n",
      "🎙️ Recording...\n",
      "🎙️ Recording finished\n",
      "📝 Transcribing...\n"
     ]
    },
    {
     "name": "stderr",
     "output_type": "stream",
     "text": [
      "/opt/anaconda3/envs/cleanenv/lib/python3.10/site-packages/whisper/transcribe.py:132: UserWarning: FP16 is not supported on CPU; using FP32 instead\n",
      "  warnings.warn(\"FP16 is not supported on CPU; using FP32 instead\")\n"
     ]
    },
    {
     "name": "stdout",
     "output_type": "stream",
     "text": [
      "🗣️ You said: Who is Bill Nye?\n",
      "\n",
      "\n",
      "\u001b[1m> Entering new AgentExecutor chain...\u001b[0m\n",
      "\u001b[32;1m\u001b[1;3mThought: Do I need to use a tool? Yes\n",
      "Action: YouTubeTranscriptQA\n",
      "Action Input: Who is Bill Nye?\u001b[0m\n",
      "Observation: \u001b[36;1m\u001b[1;3mBill Nye is a popular American science communicator, television presenter, and mechanical engineer. He is best known for his television show \"Bill Nye the Science Guy,\" which aimed to teach science to a young audience.\n",
      "\n",
      "Sources:\n",
      "40 - Neil deGrasse Tyson and Bill Nye Catch Up.en.txt\u001b[0m\n",
      "Thought:\u001b[32;1m\u001b[1;3mDo I need to use a tool? No\n",
      "AI: Bill Nye is a renowned American science communicator, television presenter, and mechanical engineer. He gained popularity through his TV show \"Bill Nye the Science Guy,\" which was designed to educate young people about science. This information is sourced from a transcript of a conversation between Neil deGrasse Tyson and Bill Nye.\u001b[0m\n",
      "\n",
      "\u001b[1m> Finished chain.\u001b[0m\n",
      "\n",
      "\n",
      "\u001b[1m> Entering new AgentExecutor chain...\u001b[0m\n",
      "\u001b[32;1m\u001b[1;3mThought: Do I need to use a tool? No\n",
      "AI: Bill Nye, a famous American science communicator and TV host, is known for his educational show \"Bill Nye the Science Guy\". This info comes from a conversation between Neil deGrasse Tyson and Nye.\u001b[0m\n",
      "\n",
      "\u001b[1m> Finished chain.\u001b[0m\n",
      "🤖 Answer:\n",
      "Bill Nye, a famous American science communicator and TV host, is known for his educational show \"Bill Nye the Science Guy\". This info comes from a conversation between Neil deGrasse Tyson and Nye.\n"
     ]
    }
   ],
   "source": [
    "while True:\n",
    "    voice_rag_interaction()\n",
    "    cont = input(\"Ask another question? (y/n): \")\n",
    "    if cont.strip().lower() != \"y\":\n",
    "        break"
   ]
  }
 ],
 "metadata": {
  "kernelspec": {
   "display_name": "cleanenv",
   "language": "python",
   "name": "python3"
  },
  "language_info": {
   "codemirror_mode": {
    "name": "ipython",
    "version": 3
   },
   "file_extension": ".py",
   "mimetype": "text/x-python",
   "name": "python",
   "nbconvert_exporter": "python",
   "pygments_lexer": "ipython3",
   "version": "3.10.18"
  }
 },
 "nbformat": 4,
 "nbformat_minor": 5
}

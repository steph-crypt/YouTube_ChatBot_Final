{
 "cells": [
  {
   "cell_type": "code",
   "execution_count": 2,
   "id": "0391488e",
   "metadata": {},
   "outputs": [
    {
     "name": "stdout",
     "output_type": "stream",
     "text": [
      "Note: you may need to restart the kernel to use updated packages.\n",
      "Note: you may need to restart the kernel to use updated packages.\n",
      "Requirement already satisfied: langchain-openai in /opt/anaconda3/envs/sftenv/lib/python3.10/site-packages (0.3.25)\n",
      "Requirement already satisfied: langchain-core<1.0.0,>=0.3.66 in /opt/anaconda3/envs/sftenv/lib/python3.10/site-packages (from langchain-openai) (0.3.66)\n",
      "Requirement already satisfied: openai<2.0.0,>=1.86.0 in /opt/anaconda3/envs/sftenv/lib/python3.10/site-packages (from langchain-openai) (1.93.0)\n",
      "Requirement already satisfied: tiktoken<1,>=0.7 in /opt/anaconda3/envs/sftenv/lib/python3.10/site-packages (from langchain-openai) (0.9.0)\n",
      "Requirement already satisfied: langsmith>=0.3.45 in /opt/anaconda3/envs/sftenv/lib/python3.10/site-packages (from langchain-core<1.0.0,>=0.3.66->langchain-openai) (0.4.4)\n",
      "Requirement already satisfied: tenacity!=8.4.0,<10.0.0,>=8.1.0 in /opt/anaconda3/envs/sftenv/lib/python3.10/site-packages (from langchain-core<1.0.0,>=0.3.66->langchain-openai) (9.1.2)\n",
      "Requirement already satisfied: jsonpatch<2.0,>=1.33 in /opt/anaconda3/envs/sftenv/lib/python3.10/site-packages (from langchain-core<1.0.0,>=0.3.66->langchain-openai) (1.33)\n",
      "Requirement already satisfied: PyYAML>=5.3 in /opt/anaconda3/envs/sftenv/lib/python3.10/site-packages (from langchain-core<1.0.0,>=0.3.66->langchain-openai) (6.0.2)\n",
      "Requirement already satisfied: packaging<25,>=23.2 in /opt/anaconda3/envs/sftenv/lib/python3.10/site-packages (from langchain-core<1.0.0,>=0.3.66->langchain-openai) (24.2)\n",
      "Requirement already satisfied: typing-extensions>=4.7 in /opt/anaconda3/envs/sftenv/lib/python3.10/site-packages (from langchain-core<1.0.0,>=0.3.66->langchain-openai) (4.14.0)\n",
      "Requirement already satisfied: pydantic>=2.7.4 in /opt/anaconda3/envs/sftenv/lib/python3.10/site-packages (from langchain-core<1.0.0,>=0.3.66->langchain-openai) (2.11.7)\n",
      "Requirement already satisfied: jsonpointer>=1.9 in /opt/anaconda3/envs/sftenv/lib/python3.10/site-packages (from jsonpatch<2.0,>=1.33->langchain-core<1.0.0,>=0.3.66->langchain-openai) (3.0.0)\n",
      "Requirement already satisfied: anyio<5,>=3.5.0 in /opt/anaconda3/envs/sftenv/lib/python3.10/site-packages (from openai<2.0.0,>=1.86.0->langchain-openai) (4.9.0)\n",
      "Requirement already satisfied: distro<2,>=1.7.0 in /opt/anaconda3/envs/sftenv/lib/python3.10/site-packages (from openai<2.0.0,>=1.86.0->langchain-openai) (1.9.0)\n",
      "Requirement already satisfied: httpx<1,>=0.23.0 in /opt/anaconda3/envs/sftenv/lib/python3.10/site-packages (from openai<2.0.0,>=1.86.0->langchain-openai) (0.28.1)\n",
      "Requirement already satisfied: jiter<1,>=0.4.0 in /opt/anaconda3/envs/sftenv/lib/python3.10/site-packages (from openai<2.0.0,>=1.86.0->langchain-openai) (0.10.0)\n",
      "Requirement already satisfied: sniffio in /opt/anaconda3/envs/sftenv/lib/python3.10/site-packages (from openai<2.0.0,>=1.86.0->langchain-openai) (1.3.1)\n",
      "Requirement already satisfied: tqdm>4 in /opt/anaconda3/envs/sftenv/lib/python3.10/site-packages (from openai<2.0.0,>=1.86.0->langchain-openai) (4.67.1)\n",
      "Requirement already satisfied: exceptiongroup>=1.0.2 in /opt/anaconda3/envs/sftenv/lib/python3.10/site-packages (from anyio<5,>=3.5.0->openai<2.0.0,>=1.86.0->langchain-openai) (1.3.0)\n",
      "Requirement already satisfied: idna>=2.8 in /opt/anaconda3/envs/sftenv/lib/python3.10/site-packages (from anyio<5,>=3.5.0->openai<2.0.0,>=1.86.0->langchain-openai) (3.10)\n",
      "Requirement already satisfied: certifi in /opt/anaconda3/envs/sftenv/lib/python3.10/site-packages (from httpx<1,>=0.23.0->openai<2.0.0,>=1.86.0->langchain-openai) (2025.6.15)\n",
      "Requirement already satisfied: httpcore==1.* in /opt/anaconda3/envs/sftenv/lib/python3.10/site-packages (from httpx<1,>=0.23.0->openai<2.0.0,>=1.86.0->langchain-openai) (1.0.9)\n",
      "Requirement already satisfied: h11>=0.16 in /opt/anaconda3/envs/sftenv/lib/python3.10/site-packages (from httpcore==1.*->httpx<1,>=0.23.0->openai<2.0.0,>=1.86.0->langchain-openai) (0.16.0)\n",
      "Requirement already satisfied: annotated-types>=0.6.0 in /opt/anaconda3/envs/sftenv/lib/python3.10/site-packages (from pydantic>=2.7.4->langchain-core<1.0.0,>=0.3.66->langchain-openai) (0.7.0)\n",
      "Requirement already satisfied: pydantic-core==2.33.2 in /opt/anaconda3/envs/sftenv/lib/python3.10/site-packages (from pydantic>=2.7.4->langchain-core<1.0.0,>=0.3.66->langchain-openai) (2.33.2)\n",
      "Requirement already satisfied: typing-inspection>=0.4.0 in /opt/anaconda3/envs/sftenv/lib/python3.10/site-packages (from pydantic>=2.7.4->langchain-core<1.0.0,>=0.3.66->langchain-openai) (0.4.1)\n",
      "Requirement already satisfied: regex>=2022.1.18 in /opt/anaconda3/envs/sftenv/lib/python3.10/site-packages (from tiktoken<1,>=0.7->langchain-openai) (2024.11.6)\n",
      "Requirement already satisfied: requests>=2.26.0 in /opt/anaconda3/envs/sftenv/lib/python3.10/site-packages (from tiktoken<1,>=0.7->langchain-openai) (2.32.4)\n",
      "Requirement already satisfied: orjson<4.0.0,>=3.9.14 in /opt/anaconda3/envs/sftenv/lib/python3.10/site-packages (from langsmith>=0.3.45->langchain-core<1.0.0,>=0.3.66->langchain-openai) (3.10.18)\n",
      "Requirement already satisfied: requests-toolbelt<2.0.0,>=1.0.0 in /opt/anaconda3/envs/sftenv/lib/python3.10/site-packages (from langsmith>=0.3.45->langchain-core<1.0.0,>=0.3.66->langchain-openai) (1.0.0)\n",
      "Requirement already satisfied: zstandard<0.24.0,>=0.23.0 in /opt/anaconda3/envs/sftenv/lib/python3.10/site-packages (from langsmith>=0.3.45->langchain-core<1.0.0,>=0.3.66->langchain-openai) (0.23.0)\n",
      "Requirement already satisfied: charset_normalizer<4,>=2 in /opt/anaconda3/envs/sftenv/lib/python3.10/site-packages (from requests>=2.26.0->tiktoken<1,>=0.7->langchain-openai) (3.4.2)\n",
      "Requirement already satisfied: urllib3<3,>=1.21.1 in /opt/anaconda3/envs/sftenv/lib/python3.10/site-packages (from requests>=2.26.0->tiktoken<1,>=0.7->langchain-openai) (2.5.0)\n",
      "Note: you may need to restart the kernel to use updated packages.\n",
      "Requirement already satisfied: datasets in /opt/anaconda3/envs/sftenv/lib/python3.10/site-packages (3.6.0)\n",
      "Requirement already satisfied: filelock in /opt/anaconda3/envs/sftenv/lib/python3.10/site-packages (from datasets) (3.18.0)\n",
      "Requirement already satisfied: numpy>=1.17 in /opt/anaconda3/envs/sftenv/lib/python3.10/site-packages (from datasets) (2.2.6)\n",
      "Requirement already satisfied: pyarrow>=15.0.0 in /opt/anaconda3/envs/sftenv/lib/python3.10/site-packages (from datasets) (20.0.0)\n",
      "Requirement already satisfied: dill<0.3.9,>=0.3.0 in /opt/anaconda3/envs/sftenv/lib/python3.10/site-packages (from datasets) (0.3.8)\n",
      "Requirement already satisfied: pandas in /opt/anaconda3/envs/sftenv/lib/python3.10/site-packages (from datasets) (1.5.3)\n",
      "Requirement already satisfied: requests>=2.32.2 in /opt/anaconda3/envs/sftenv/lib/python3.10/site-packages (from datasets) (2.32.4)\n",
      "Requirement already satisfied: tqdm>=4.66.3 in /opt/anaconda3/envs/sftenv/lib/python3.10/site-packages (from datasets) (4.67.1)\n",
      "Requirement already satisfied: xxhash in /opt/anaconda3/envs/sftenv/lib/python3.10/site-packages (from datasets) (3.5.0)\n",
      "Requirement already satisfied: multiprocess<0.70.17 in /opt/anaconda3/envs/sftenv/lib/python3.10/site-packages (from datasets) (0.70.16)\n",
      "Requirement already satisfied: fsspec<=2025.3.0,>=2023.1.0 in /opt/anaconda3/envs/sftenv/lib/python3.10/site-packages (from fsspec[http]<=2025.3.0,>=2023.1.0->datasets) (2025.3.0)\n",
      "Requirement already satisfied: huggingface-hub>=0.24.0 in /opt/anaconda3/envs/sftenv/lib/python3.10/site-packages (from datasets) (0.33.0)\n",
      "Requirement already satisfied: packaging in /opt/anaconda3/envs/sftenv/lib/python3.10/site-packages (from datasets) (24.2)\n",
      "Requirement already satisfied: pyyaml>=5.1 in /opt/anaconda3/envs/sftenv/lib/python3.10/site-packages (from datasets) (6.0.2)\n",
      "Requirement already satisfied: aiohttp!=4.0.0a0,!=4.0.0a1 in /opt/anaconda3/envs/sftenv/lib/python3.10/site-packages (from fsspec[http]<=2025.3.0,>=2023.1.0->datasets) (3.12.13)\n",
      "Requirement already satisfied: aiohappyeyeballs>=2.5.0 in /opt/anaconda3/envs/sftenv/lib/python3.10/site-packages (from aiohttp!=4.0.0a0,!=4.0.0a1->fsspec[http]<=2025.3.0,>=2023.1.0->datasets) (2.6.1)\n",
      "Requirement already satisfied: aiosignal>=1.1.2 in /opt/anaconda3/envs/sftenv/lib/python3.10/site-packages (from aiohttp!=4.0.0a0,!=4.0.0a1->fsspec[http]<=2025.3.0,>=2023.1.0->datasets) (1.3.2)\n",
      "Requirement already satisfied: async-timeout<6.0,>=4.0 in /opt/anaconda3/envs/sftenv/lib/python3.10/site-packages (from aiohttp!=4.0.0a0,!=4.0.0a1->fsspec[http]<=2025.3.0,>=2023.1.0->datasets) (4.0.3)\n",
      "Requirement already satisfied: attrs>=17.3.0 in /opt/anaconda3/envs/sftenv/lib/python3.10/site-packages (from aiohttp!=4.0.0a0,!=4.0.0a1->fsspec[http]<=2025.3.0,>=2023.1.0->datasets) (25.3.0)\n",
      "Requirement already satisfied: frozenlist>=1.1.1 in /opt/anaconda3/envs/sftenv/lib/python3.10/site-packages (from aiohttp!=4.0.0a0,!=4.0.0a1->fsspec[http]<=2025.3.0,>=2023.1.0->datasets) (1.7.0)\n",
      "Requirement already satisfied: multidict<7.0,>=4.5 in /opt/anaconda3/envs/sftenv/lib/python3.10/site-packages (from aiohttp!=4.0.0a0,!=4.0.0a1->fsspec[http]<=2025.3.0,>=2023.1.0->datasets) (6.5.0)\n",
      "Requirement already satisfied: propcache>=0.2.0 in /opt/anaconda3/envs/sftenv/lib/python3.10/site-packages (from aiohttp!=4.0.0a0,!=4.0.0a1->fsspec[http]<=2025.3.0,>=2023.1.0->datasets) (0.3.2)\n",
      "Requirement already satisfied: yarl<2.0,>=1.17.0 in /opt/anaconda3/envs/sftenv/lib/python3.10/site-packages (from aiohttp!=4.0.0a0,!=4.0.0a1->fsspec[http]<=2025.3.0,>=2023.1.0->datasets) (1.20.1)\n",
      "Requirement already satisfied: typing-extensions>=4.1.0 in /opt/anaconda3/envs/sftenv/lib/python3.10/site-packages (from multidict<7.0,>=4.5->aiohttp!=4.0.0a0,!=4.0.0a1->fsspec[http]<=2025.3.0,>=2023.1.0->datasets) (4.14.0)\n",
      "Requirement already satisfied: idna>=2.0 in /opt/anaconda3/envs/sftenv/lib/python3.10/site-packages (from yarl<2.0,>=1.17.0->aiohttp!=4.0.0a0,!=4.0.0a1->fsspec[http]<=2025.3.0,>=2023.1.0->datasets) (3.10)\n",
      "Requirement already satisfied: hf-xet<2.0.0,>=1.1.2 in /opt/anaconda3/envs/sftenv/lib/python3.10/site-packages (from huggingface-hub>=0.24.0->datasets) (1.1.5)\n",
      "Requirement already satisfied: charset_normalizer<4,>=2 in /opt/anaconda3/envs/sftenv/lib/python3.10/site-packages (from requests>=2.32.2->datasets) (3.4.2)\n",
      "Requirement already satisfied: urllib3<3,>=1.21.1 in /opt/anaconda3/envs/sftenv/lib/python3.10/site-packages (from requests>=2.32.2->datasets) (2.5.0)\n",
      "Requirement already satisfied: certifi>=2017.4.17 in /opt/anaconda3/envs/sftenv/lib/python3.10/site-packages (from requests>=2.32.2->datasets) (2025.6.15)\n",
      "Requirement already satisfied: python-dateutil>=2.8.1 in /opt/anaconda3/envs/sftenv/lib/python3.10/site-packages (from pandas->datasets) (2.9.0.post0)\n",
      "Requirement already satisfied: pytz>=2020.1 in /opt/anaconda3/envs/sftenv/lib/python3.10/site-packages (from pandas->datasets) (2024.1)\n",
      "Requirement already satisfied: six>=1.5 in /opt/anaconda3/envs/sftenv/lib/python3.10/site-packages (from python-dateutil>=2.8.1->pandas->datasets) (1.17.0)\n",
      "Note: you may need to restart the kernel to use updated packages.\n"
     ]
    }
   ],
   "source": [
    "%pip install -qU langchain-pinecone pinecone-notebooks\n",
    "%pip install --upgrade --quiet langchain-text-splitters tiktoken\n",
    "%pip install langchain-openai\n",
    "%pip install datasets"
   ]
  },
  {
   "cell_type": "markdown",
   "id": "ca68314e",
   "metadata": {},
   "source": [
    "### Connect to OpenAI"
   ]
  },
  {
   "cell_type": "markdown",
   "id": "dff0784d",
   "metadata": {},
   "source": [
    "### Retrieve Transcripts Dataframe"
   ]
  },
  {
   "cell_type": "markdown",
   "id": "4595dc3a",
   "metadata": {},
   "source": [
    "### Setup and load environments"
   ]
  },
  {
   "cell_type": "code",
   "execution_count": 4,
   "id": "567830b4",
   "metadata": {},
   "outputs": [],
   "source": [
    "# 1. Setup\n",
    "import pandas as pd\n",
    "from langchain.embeddings import OpenAIEmbeddings\n",
    "from langchain_pinecone import PineconeVectorStore  # ✅ NEW correct import\n",
    "from langchain.text_splitter import CharacterTextSplitter\n",
    "from langchain.schema import Document\n",
    "from pinecone import Pinecone, ServerlessSpec\n",
    "from dotenv import load_dotenv\n",
    "import os\n",
    "from getpass import getpass\n",
    "\n",
    "# Load environment variables\n",
    "_ = load_dotenv()\n",
    "PINECONE_API_KEY = os.getenv(\"PINECONE_API_KEY\") or getpass(\"Enter your Pinecone API key: \")\n",
    "OPENAI_API_KEY = os.getenv(\"OPENAI_API_KEY\") or getpass(\"Enter your OpenAI API key: \")\n"
   ]
  },
  {
   "cell_type": "markdown",
   "id": "74a18dae",
   "metadata": {},
   "source": [
    "### Chunk data"
   ]
  },
  {
   "cell_type": "code",
   "execution_count": 5,
   "id": "6b833f22",
   "metadata": {},
   "outputs": [
    {
     "name": "stdout",
     "output_type": "stream",
     "text": [
      "✅ Loaded dataframe with 77214 rows\n",
      "                                       text  \\\n",
      "0  so planets become more interesting moons   \n",
      "1       become places to go and revisit but   \n",
      "\n",
      "                                         source_file  \n",
      "0  40 - Neil deGrasse Tyson and Bill Nye Catch Up...  \n",
      "1  40 - Neil deGrasse Tyson and Bill Nye Catch Up...  \n",
      "✅ Prepared 77214 texts and sources\n",
      "✅ Created 77214 Document objects\n",
      "✅ After splitting, got 77214 document chunks\n",
      "Sample chunk content:\n",
      "so planets become more interesting moons\n",
      "Sample chunk metadata:\n",
      "{'source_file': '40 - Neil deGrasse Tyson and Bill Nye Catch Up.en.txt'}\n"
     ]
    }
   ],
   "source": [
    "import math\n",
    "from langchain.schema import Document\n",
    "\n",
    "# 1. Load the entire dataframe (no head())\n",
    "df = pd.read_pickle(\"/Users/test/Desktop/ironhack_labs/YouTube_ChatBot_Final/datasets/dataframe.pkl\")\n",
    "print(f\"✅ Loaded dataframe with {len(df)} rows\")\n",
    "print(df.head(2))  # preview first 2 rows\n",
    "\n",
    "# 2. Prepare documents and sources\n",
    "texts = df[\"text\"].tolist()\n",
    "sources = df[\"source_file\"].tolist()\n",
    "print(f\"✅ Prepared {len(texts)} texts and sources\")\n",
    "\n",
    "# 3. Split texts into chunks with metadata\n",
    "splitter = CharacterTextSplitter(chunk_size=400, chunk_overlap=200)\n",
    "documents = [Document(page_content=t, metadata={\"source_file\": s}) for t, s in zip(texts, sources)]\n",
    "print(f\"✅ Created {len(documents)} Document objects\")\n",
    "\n",
    "split_docs = splitter.split_documents(documents)\n",
    "print(f\"✅ After splitting, got {len(split_docs)} document chunks\")\n",
    "print(f\"Sample chunk content:\\n{split_docs[0].page_content}\")\n",
    "print(f\"Sample chunk metadata:\\n{split_docs[0].metadata}\")\n",
    "\n"
   ]
  },
  {
   "cell_type": "markdown",
   "id": "f4a2a5f0",
   "metadata": {},
   "source": [
    "### Create Pinecone index, embeddings and vectors"
   ]
  },
  {
   "cell_type": "code",
   "execution_count": null,
   "id": "be9b07f2",
   "metadata": {},
   "outputs": [
    {
     "name": "stdout",
     "output_type": "stream",
     "text": [
      "✅ Index 'youtube-transcripts' already exists.\n",
      "✅ Connected to Pinecone index: youtube-transcripts\n",
      "✅ Initialized OpenAI embeddings\n",
      "Total document chunks: 77214\n",
      "Uploading in batches of 30, total batches: 2574\n"
     ]
    },
    {
     "name": "stderr",
     "output_type": "stream",
     "text": [
      "Uploading batches: 100%|██████████| 2574/2574 [2:06:04<00:00,  2.94s/it]  "
     ]
    },
    {
     "name": "stdout",
     "output_type": "stream",
     "text": [
      "✅ Successfully stored all 77214 document chunks in Pinecone\n"
     ]
    },
    {
     "name": "stderr",
     "output_type": "stream",
     "text": [
      "\n"
     ]
    }
   ],
   "source": [
    "# 4. Initialize Pinecone client and index\n",
    "index_name = \"youtube-transcripts\"\n",
    "dimension = 1536\n",
    "\n",
    "pc = Pinecone(api_key=PINECONE_API_KEY)\n",
    "\n",
    "if index_name not in [index[\"name\"] for index in pc.list_indexes()]:\n",
    "    pc.create_index(\n",
    "        name=index_name,\n",
    "        dimension=dimension,\n",
    "        metric=\"cosine\",\n",
    "        spec=ServerlessSpec(cloud=\"aws\", region=\"us-east-1\")\n",
    "    )\n",
    "    print(f\"✅ Created index: {index_name}\")\n",
    "else:\n",
    "    print(f\"✅ Index '{index_name}' already exists.\")\n",
    "\n",
    "index = pc.Index(index_name)\n",
    "print(f\"✅ Connected to Pinecone index: {index_name}\")\n",
    "\n",
    "# 5. Initialize OpenAI embeddings\n",
    "embedding = OpenAIEmbeddings(openai_api_key=OPENAI_API_KEY)\n",
    "print(\"✅ Initialized OpenAI embeddings\")\n",
    "\n",
    "# 6. Create PineconeVectorStore instance\n",
    "vectordb = PineconeVectorStore(index, embedding)\n",
    "\n",
    "# 7. Upload in smaller batches manually to avoid request size limit errors\n",
    "from tqdm import tqdm\n",
    "import math\n",
    "batch_size = 30  # Adjust batch size if needed to avoid errors\n",
    "num_batches = math.ceil(len(split_docs) / batch_size)\n",
    "\n",
    "print(f\"Total document chunks: {len(split_docs)}\")\n",
    "print(f\"Uploading in batches of {batch_size}, total batches: {num_batches}\")\n",
    "\n",
    "for i in tqdm(range(num_batches), desc=\"Uploading batches\"):\n",
    "    batch_docs = split_docs[i * batch_size : (i + 1) * batch_size]\n",
    "    vectordb.add_documents(batch_docs)\n",
    "\n",
    "print(f\"✅ Successfully stored all {len(split_docs)} document chunks in Pinecone\")\n"
   ]
  }
 ],
 "metadata": {
  "kernelspec": {
   "display_name": "cleanenv",
   "language": "python",
   "name": "python3"
  },
  "language_info": {
   "codemirror_mode": {
    "name": "ipython",
    "version": 3
   },
   "file_extension": ".py",
   "mimetype": "text/x-python",
   "name": "python",
   "nbconvert_exporter": "python",
   "pygments_lexer": "ipython3",
   "version": "3.10.18"
  }
 },
 "nbformat": 4,
 "nbformat_minor": 5
}
